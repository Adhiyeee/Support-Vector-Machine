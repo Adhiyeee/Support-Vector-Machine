{
 "cells": [
  {
   "cell_type": "code",
   "execution_count": 8,
   "id": "6f4c9ad7-24ed-456f-ad5c-c2fb70b194d3",
   "metadata": {},
   "outputs": [
    {
     "name": "stdout",
     "output_type": "stream",
     "text": [
      "   sepal length (cm)  sepal width (cm)  petal length (cm)  petal width (cm)\n",
      "0                5.1               3.5                1.4               0.2\n",
      "1                4.9               3.0                1.4               0.2\n",
      "2                4.7               3.2                1.3               0.2\n",
      "3                4.6               3.1                1.5               0.2\n",
      "4                5.0               3.6                1.4               0.2\n"
     ]
    }
   ],
   "source": [
    "import pandas as pd\n",
    "from sklearn.svm import SVC\n",
    "from sklearn import datasets\n",
    "from sklearn.metrics import accuracy_score,classification_report,confusion_matrix\n",
    "from sklearn.model_selection import train_test_split\n",
    "iris=datasets.load_iris()\n",
    "iriss=pd.DataFrame(data=iris.data,columns=iris.feature_names)\n",
    "print(iriss.head())"
   ]
  },
  {
   "cell_type": "markdown",
   "id": "0d4c2530-9dcf-4002-b5d0-296860d39c57",
   "metadata": {},
   "source": [
    "## FITTING TO SVM"
   ]
  },
  {
   "cell_type": "code",
   "execution_count": 16,
   "id": "257bf39b-84f1-4378-90cf-96ebb928de52",
   "metadata": {},
   "outputs": [
    {
     "name": "stdout",
     "output_type": "stream",
     "text": [
      "accuracy 0.9833333333333333\n",
      "report               precision    recall  f1-score   support\n",
      "\n",
      "           0       1.00      1.00      1.00        38\n",
      "           1       0.97      0.97      0.97        39\n",
      "           2       0.98      0.98      0.98        43\n",
      "\n",
      "    accuracy                           0.98       120\n",
      "   macro avg       0.98      0.98      0.98       120\n",
      "weighted avg       0.98      0.98      0.98       120\n",
      "\n",
      "confusion matrix [[38  0  0]\n",
      " [ 0 38  1]\n",
      " [ 0  1 42]]\n"
     ]
    }
   ],
   "source": [
    "\n",
    "x=iris.data\n",
    "y=iris.target\n",
    "x_train,x_test,y_train,y_test=train_test_split(x,y,train_size=0.2,random_state=40)\n",
    "svm=SVC(kernel=\"linear\")\n",
    "svm.fit(x_train,y_train)\n",
    "ypred=svm.predict(x_test)\n",
    "print(\"accuracy\",accuracy_score(y_test,ypred))\n",
    "print(\"report\",classification_report(y_test,ypred))\n",
    "print(\"confusion matrix\",confusion_matrix(y_test,ypred))"
   ]
  },
  {
   "cell_type": "markdown",
   "id": "7aa39234-d6f7-4c75-be81-0a61576b95fd",
   "metadata": {},
   "source": [
    "## PREDICTION"
   ]
  },
  {
   "cell_type": "code",
   "execution_count": 18,
   "id": "3d8416cb-9abf-4000-8e71-a5274b1ed4e5",
   "metadata": {},
   "outputs": [
    {
     "name": "stdout",
     "output_type": "stream",
     "text": [
      "prediction [0]\n",
      "name setosa\n"
     ]
    }
   ],
   "source": [
    "sample=[[6,4,1,0.2]]\n",
    "pred=svm.predict(sample)\n",
    "\n",
    "print(\"prediction\",pred)\n",
    "print(\"name\",iris.target_names[pred][0])"
   ]
  },
  {
   "cell_type": "code",
   "execution_count": null,
   "id": "4bee757e-dd33-4a37-8b7b-3fa5344c0ccc",
   "metadata": {},
   "outputs": [],
   "source": []
  }
 ],
 "metadata": {
  "kernelspec": {
   "display_name": "Python [conda env:base] *",
   "language": "python",
   "name": "conda-base-py"
  },
  "language_info": {
   "codemirror_mode": {
    "name": "ipython",
    "version": 3
   },
   "file_extension": ".py",
   "mimetype": "text/x-python",
   "name": "python",
   "nbconvert_exporter": "python",
   "pygments_lexer": "ipython3",
   "version": "3.13.5"
  }
 },
 "nbformat": 4,
 "nbformat_minor": 5
}
